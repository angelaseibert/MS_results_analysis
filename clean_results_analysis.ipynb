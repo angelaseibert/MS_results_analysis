{
 "cells": [
  {
   "cell_type": "markdown",
   "id": "b45ad30d",
   "metadata": {},
   "source": [
    "# Results Analysis"
   ]
  },
  {
   "cell_type": "markdown",
   "id": "4dbb7706",
   "metadata": {},
   "source": [
    "#### Generate a dataframe of all model iterations"
   ]
  },
  {
   "cell_type": "code",
   "execution_count": null,
   "id": "3ea8734d",
   "metadata": {},
   "outputs": [],
   "source": [
    "from results_analysis_functions import stack_its"
   ]
  },
  {
   "cell_type": "code",
   "execution_count": null,
   "id": "4f50135a",
   "metadata": {},
   "outputs": [],
   "source": [
    "file_path = 'C:\\\\Users\\\\ANGELASEIBERT\\\\Desktop\\\\Python_Workspace\\\\Results_Footprint_Fix\\\\func_test\\\\'\n",
    "final_csv_name = 'finalcsv.csv'"
   ]
  },
  {
   "cell_type": "code",
   "execution_count": null,
   "id": "3cdcade5",
   "metadata": {},
   "outputs": [],
   "source": [
    "# stack_its(file_path, final_csv_name) # generates csv "
   ]
  },
  {
   "cell_type": "markdown",
   "id": "3325e7b5",
   "metadata": {},
   "source": [
    "#### Load csv and filter "
   ]
  },
  {
   "cell_type": "code",
   "execution_count": 5,
   "id": "fd6cc8bf",
   "metadata": {},
   "outputs": [],
   "source": [
    "from results_analysis_functions import load_and_filter"
   ]
  },
  {
   "cell_type": "code",
   "execution_count": 6,
   "id": "9c855457",
   "metadata": {},
   "outputs": [],
   "source": [
    "results_path = 'C:\\\\Users\\\\ANGELASEIBERT\\\\Desktop\\\\Python_Workspace\\\\Results_Footprint_Fix\\\\LAI_all_FPFIXED.csv'"
   ]
  },
  {
   "cell_type": "code",
   "execution_count": 7,
   "id": "80ec9295",
   "metadata": {},
   "outputs": [],
   "source": [
    "my_filtered_df = load_and_filter(results_path, 'species', 'all')\n",
    "year = my_filtered_df.year\n",
    "LAI = my_filtered_df.LAI"
   ]
  },
  {
   "cell_type": "markdown",
   "id": "ae7a5ae9",
   "metadata": {},
   "source": [
    "#### Perform regression analysis "
   ]
  },
  {
   "cell_type": "code",
   "execution_count": 9,
   "id": "8b53ed2e",
   "metadata": {},
   "outputs": [],
   "source": [
    "from results_analysis_functions import regression_analysis"
   ]
  },
  {
   "cell_type": "code",
   "execution_count": 10,
   "id": "d6199c51",
   "metadata": {},
   "outputs": [
    {
     "name": "stdout",
     "output_type": "stream",
     "text": [
      "                            OLS Regression Results                            \n",
      "==============================================================================\n",
      "Dep. Variable:                    LAI   R-squared:                       0.149\n",
      "Model:                            OLS   Adj. R-squared:                  0.149\n",
      "Method:                 Least Squares   F-statistic:                     168.3\n",
      "Date:                Thu, 15 Jun 2023   Prob (F-statistic):           1.44e-35\n",
      "Time:                        12:09:29   Log-Likelihood:                -548.45\n",
      "No. Observations:                 960   AIC:                             1101.\n",
      "Df Residuals:                     958   BIC:                             1111.\n",
      "Df Model:                           1                                         \n",
      "Covariance Type:            nonrobust                                         \n",
      "==============================================================================\n",
      "                 coef    std err          t      P>|t|      [0.025      0.975]\n",
      "------------------------------------------------------------------------------\n",
      "const       -156.3563     12.194    -12.823      0.000    -180.286    -132.427\n",
      "year           0.0784      0.006     12.972      0.000       0.067       0.090\n",
      "==============================================================================\n",
      "Omnibus:                       91.370   Durbin-Watson:                   0.574\n",
      "Prob(Omnibus):                  0.000   Jarque-Bera (JB):              169.439\n",
      "Skew:                           0.619   Prob(JB):                     1.61e-37\n",
      "Kurtosis:                       4.645   Cond. No.                     1.78e+06\n",
      "==============================================================================\n",
      "\n",
      "Notes:\n",
      "[1] Standard Errors assume that the covariance matrix of the errors is correctly specified.\n",
      "[2] The condition number is large, 1.78e+06. This might indicate that there are\n",
      "strong multicollinearity or other numerical problems.\n"
     ]
    }
   ],
   "source": [
    "regression_analysis(my_filtered_df, year, LAI)"
   ]
  },
  {
   "cell_type": "markdown",
   "id": "b56f0db7",
   "metadata": {},
   "source": [
    "#### LAI vs time filtered by CO2 treatment - boxplots"
   ]
  },
  {
   "cell_type": "code",
   "execution_count": null,
   "id": "462164bd",
   "metadata": {},
   "outputs": [],
   "source": []
  }
 ],
 "metadata": {
  "kernelspec": {
   "display_name": "Python 3 (ipykernel)",
   "language": "python",
   "name": "python3"
  },
  "language_info": {
   "codemirror_mode": {
    "name": "ipython",
    "version": 3
   },
   "file_extension": ".py",
   "mimetype": "text/x-python",
   "name": "python",
   "nbconvert_exporter": "python",
   "pygments_lexer": "ipython3",
   "version": "3.9.12"
  }
 },
 "nbformat": 4,
 "nbformat_minor": 5
}
